{
 "cells": [
  {
   "cell_type": "markdown",
   "id": "6d63f4a4",
   "metadata": {},
   "source": [
    "# Operations in Python"
   ]
  },
  {
   "cell_type": "code",
   "execution_count": 1,
   "id": "b5b98139",
   "metadata": {},
   "outputs": [
    {
     "data": {
      "text/plain": [
       "3"
      ]
     },
     "execution_count": 1,
     "metadata": {},
     "output_type": "execute_result"
    }
   ],
   "source": [
    "2 + 1\n"
   ]
  },
  {
   "cell_type": "code",
   "execution_count": 2,
   "id": "dcc61477",
   "metadata": {},
   "outputs": [
    {
     "data": {
      "text/plain": [
       "1"
      ]
     },
     "execution_count": 2,
     "metadata": {},
     "output_type": "execute_result"
    }
   ],
   "source": [
    "4 - 3\n"
   ]
  },
  {
   "cell_type": "code",
   "execution_count": 3,
   "id": "3be2d542",
   "metadata": {},
   "outputs": [
    {
     "data": {
      "text/plain": [
       "2.0"
      ]
     },
     "execution_count": 3,
     "metadata": {},
     "output_type": "execute_result"
    }
   ],
   "source": [
    "4 / 2\n"
   ]
  },
  {
   "cell_type": "code",
   "execution_count": 4,
   "id": "0f2c408f",
   "metadata": {},
   "outputs": [
    {
     "data": {
      "text/plain": [
       "8"
      ]
     },
     "execution_count": 4,
     "metadata": {},
     "output_type": "execute_result"
    }
   ],
   "source": [
    "4 * 2\n"
   ]
  },
  {
   "cell_type": "code",
   "execution_count": 5,
   "id": "abdc9c54",
   "metadata": {},
   "outputs": [
    {
     "data": {
      "text/plain": [
       "16"
      ]
     },
     "execution_count": 5,
     "metadata": {},
     "output_type": "execute_result"
    }
   ],
   "source": [
    "4 ** 2\n"
   ]
  },
  {
   "cell_type": "code",
   "execution_count": 6,
   "id": "272a15fa",
   "metadata": {},
   "outputs": [
    {
     "data": {
      "text/plain": [
       "1"
      ]
     },
     "execution_count": 6,
     "metadata": {},
     "output_type": "execute_result"
    }
   ],
   "source": [
    "4 % 3\n"
   ]
  },
  {
   "cell_type": "code",
   "execution_count": 7,
   "id": "4639439d",
   "metadata": {},
   "outputs": [
    {
     "data": {
      "text/plain": [
       "2"
      ]
     },
     "execution_count": 7,
     "metadata": {},
     "output_type": "execute_result"
    }
   ],
   "source": [
    "4 // 2\n"
   ]
  },
  {
   "cell_type": "code",
   "execution_count": 8,
   "id": "c6e6d0db",
   "metadata": {},
   "outputs": [
    {
     "data": {
      "text/plain": [
       "1"
      ]
     },
     "execution_count": 8,
     "metadata": {},
     "output_type": "execute_result"
    }
   ],
   "source": [
    "4 //3\n"
   ]
  },
  {
   "cell_type": "markdown",
   "id": "e61513f2",
   "metadata": {},
   "source": [
    "## Variables"
   ]
  },
  {
   "cell_type": "code",
   "execution_count": 9,
   "id": "9c5699f4",
   "metadata": {},
   "outputs": [],
   "source": [
    "#variables are all alphabeticals words or mnumbers in python"
   ]
  },
  {
   "cell_type": "code",
   "execution_count": 10,
   "id": "0dca847a",
   "metadata": {},
   "outputs": [
    {
     "name": "stdout",
     "output_type": "stream",
     "text": [
      "hello chuku\n"
     ]
    }
   ],
   "source": [
    "print(\"hello chuku\")\n"
   ]
  },
  {
   "cell_type": "code",
   "execution_count": 11,
   "id": "31fac61e",
   "metadata": {},
   "outputs": [
    {
     "ename": "NameError",
     "evalue": "name 'x' is not defined",
     "output_type": "error",
     "traceback": [
      "\u001b[1;31m---------------------------------------------------------------------------\u001b[0m",
      "\u001b[1;31mNameError\u001b[0m                                 Traceback (most recent call last)",
      "Input \u001b[1;32mIn [11]\u001b[0m, in \u001b[0;36m<cell line: 1>\u001b[1;34m()\u001b[0m\n\u001b[1;32m----> 1\u001b[0m \u001b[38;5;28mprint\u001b[39m(\u001b[43mx\u001b[49m)\n",
      "\u001b[1;31mNameError\u001b[0m: name 'x' is not defined"
     ]
    }
   ],
   "source": [
    "print(x)\n"
   ]
  },
  {
   "cell_type": "code",
   "execution_count": 12,
   "id": "467e5b59",
   "metadata": {},
   "outputs": [
    {
     "name": "stdout",
     "output_type": "stream",
     "text": [
      "x\n"
     ]
    }
   ],
   "source": [
    "\n",
    "print(\"x\")\n"
   ]
  },
  {
   "cell_type": "markdown",
   "id": "00629288",
   "metadata": {},
   "source": [
    "# assignment Operator"
   ]
  },
  {
   "cell_type": "code",
   "execution_count": 13,
   "id": "a5c863a4",
   "metadata": {},
   "outputs": [
    {
     "name": "stdout",
     "output_type": "stream",
     "text": [
      "18.08\n"
     ]
    }
   ],
   "source": [
    "x = 12.04\n",
    "y = 6.04\n",
    "z = x + y\n",
    "print(z)\n"
   ]
  },
  {
   "cell_type": "code",
   "execution_count": 14,
   "id": "e8fc09fd",
   "metadata": {},
   "outputs": [
    {
     "name": "stdout",
     "output_type": "stream",
     "text": [
      "18.08\n"
     ]
    }
   ],
   "source": [
    "print(x + y)\n"
   ]
  },
  {
   "cell_type": "code",
   "execution_count": 15,
   "id": "df1faefd",
   "metadata": {},
   "outputs": [
    {
     "name": "stdout",
     "output_type": "stream",
     "text": [
      "12.04\n"
     ]
    }
   ],
   "source": [
    "print(x)"
   ]
  },
  {
   "cell_type": "code",
   "execution_count": 16,
   "id": "18e69427",
   "metadata": {},
   "outputs": [
    {
     "name": "stdout",
     "output_type": "stream",
     "text": [
      "x\n"
     ]
    }
   ],
   "source": [
    "print(\"x\")"
   ]
  },
  {
   "cell_type": "code",
   "execution_count": 17,
   "id": "c3af41da",
   "metadata": {},
   "outputs": [
    {
     "data": {
      "text/plain": [
       "18.08"
      ]
     },
     "execution_count": 17,
     "metadata": {},
     "output_type": "execute_result"
    }
   ],
   "source": [
    "z"
   ]
  },
  {
   "cell_type": "code",
   "execution_count": 18,
   "id": "137d4e51",
   "metadata": {},
   "outputs": [
    {
     "data": {
      "text/plain": [
       "6.04"
      ]
     },
     "execution_count": 18,
     "metadata": {},
     "output_type": "execute_result"
    }
   ],
   "source": [
    "y\n"
   ]
  },
  {
   "cell_type": "code",
   "execution_count": 19,
   "id": "d333de34",
   "metadata": {},
   "outputs": [
    {
     "name": "stdout",
     "output_type": "stream",
     "text": [
      "9.04\n"
     ]
    }
   ],
   "source": [
    "mean = (x + y) / 2\n",
    "print(mean)\n"
   ]
  },
  {
   "cell_type": "code",
   "execution_count": 21,
   "id": "a4fd4b0f",
   "metadata": {},
   "outputs": [
    {
     "name": "stdout",
     "output_type": "stream",
     "text": [
      "12\n"
     ]
    }
   ],
   "source": [
    "chuku = 12\n",
    "gozie = chuku\n",
    "print(gozie)"
   ]
  },
  {
   "cell_type": "code",
   "execution_count": 22,
   "id": "cc65d1de",
   "metadata": {},
   "outputs": [
    {
     "data": {
      "text/plain": [
       "True"
      ]
     },
     "execution_count": 22,
     "metadata": {},
     "output_type": "execute_result"
    }
   ],
   "source": [
    "a = 2\n",
    "b = 2 \n",
    "a == b\n",
    "\n"
   ]
  },
  {
   "cell_type": "code",
   "execution_count": 23,
   "id": "57454f6e",
   "metadata": {},
   "outputs": [
    {
     "name": "stdout",
     "output_type": "stream",
     "text": [
      "gozie\n",
      "magnus\n",
      "joy\n"
     ]
    }
   ],
   "source": [
    "# Ex 1\n",
    "\n",
    "\n",
    "print(\"gozie\")\n",
    "print(\"magnus\")\n",
    "print(\"joy\")\n"
   ]
  },
  {
   "cell_type": "code",
   "execution_count": 1,
   "id": "4cc8bbc3",
   "metadata": {},
   "outputs": [
    {
     "name": "stdout",
     "output_type": "stream",
     "text": [
      "what is your name magnus\n",
      "hello magnus\n"
     ]
    }
   ],
   "source": [
    "name = input(\"what is your name \")\n",
    "print(\"hello\", name)\n"
   ]
  },
  {
   "cell_type": "code",
   "execution_count": 5,
   "id": "e0f6bf92",
   "metadata": {},
   "outputs": [
    {
     "name": "stdout",
     "output_type": "stream",
     "text": [
      "what is your name maguns\n",
      "hello maguns\n"
     ]
    }
   ],
   "source": [
    "name = input(\"what is your name \")\n",
    "x = \"hello\"\n",
    "print(x, name)"
   ]
  },
  {
   "cell_type": "code",
   "execution_count": 6,
   "id": "a68f4a22",
   "metadata": {},
   "outputs": [
    {
     "name": "stdout",
     "output_type": "stream",
     "text": [
      "what is your name magnus\n"
     ]
    },
    {
     "data": {
      "text/plain": [
       "'hellomagnus'"
      ]
     },
     "execution_count": 6,
     "metadata": {},
     "output_type": "execute_result"
    }
   ],
   "source": [
    "name = input(\"what is your name \")\n",
    "x = \"hello\"\n",
    "x +name"
   ]
  },
  {
   "cell_type": "markdown",
   "id": "49a7b551",
   "metadata": {},
   "source": [
    "### datatypes\n",
    "\n"
   ]
  },
  {
   "cell_type": "code",
   "execution_count": 7,
   "id": "309c2af8",
   "metadata": {},
   "outputs": [
    {
     "data": {
      "text/plain": [
       "25.04"
      ]
     },
     "execution_count": 7,
     "metadata": {},
     "output_type": "execute_result"
    }
   ],
   "source": [
    "x = 12\n",
    "y = 13.04\n",
    "x + y\n"
   ]
  },
  {
   "cell_type": "code",
   "execution_count": 8,
   "id": "25adfc06",
   "metadata": {},
   "outputs": [
    {
     "data": {
      "text/plain": [
       "0.9202453987730062"
      ]
     },
     "execution_count": 8,
     "metadata": {},
     "output_type": "execute_result"
    }
   ],
   "source": [
    "x/y"
   ]
  },
  {
   "cell_type": "code",
   "execution_count": 9,
   "id": "fd868a0c",
   "metadata": {},
   "outputs": [
    {
     "name": "stdout",
     "output_type": "stream",
     "text": [
      "Enter lenght of room: 12\n",
      "Enter Breadth  of room: 7\n"
     ]
    },
    {
     "ename": "TypeError",
     "evalue": "can't multiply sequence by non-int of type 'str'",
     "output_type": "error",
     "traceback": [
      "\u001b[1;31m---------------------------------------------------------------------------\u001b[0m",
      "\u001b[1;31mTypeError\u001b[0m                                 Traceback (most recent call last)",
      "Input \u001b[1;32mIn [9]\u001b[0m, in \u001b[0;36m<cell line: 3>\u001b[1;34m()\u001b[0m\n\u001b[0;32m      1\u001b[0m l \u001b[38;5;241m=\u001b[39m \u001b[38;5;28minput\u001b[39m(\u001b[38;5;124m\"\u001b[39m\u001b[38;5;124mEnter lenght of room: \u001b[39m\u001b[38;5;124m\"\u001b[39m)\n\u001b[0;32m      2\u001b[0m b \u001b[38;5;241m=\u001b[39m \u001b[38;5;28minput\u001b[39m(\u001b[38;5;124m\"\u001b[39m\u001b[38;5;124mEnter Breadth  of room: \u001b[39m\u001b[38;5;124m\"\u001b[39m)\n\u001b[1;32m----> 3\u001b[0m area \u001b[38;5;241m=\u001b[39m \u001b[43ml\u001b[49m\u001b[38;5;241;43m*\u001b[39;49m\u001b[43mb\u001b[49m\n\u001b[0;32m      4\u001b[0m \u001b[38;5;28mprint\u001b[39m(area, \u001b[38;5;124m\"\u001b[39m\u001b[38;5;124mmeters squares\u001b[39m\u001b[38;5;124m\"\u001b[39m)\n",
      "\u001b[1;31mTypeError\u001b[0m: can't multiply sequence by non-int of type 'str'"
     ]
    }
   ],
   "source": [
    "l = input(\"Enter lenght of room: \")\n",
    "b = input(\"Enter Breadth  of room: \")\n",
    "area = l*b\n",
    "print(area, \"meters squares\")"
   ]
  },
  {
   "cell_type": "code",
   "execution_count": 11,
   "id": "a2b6ce4f",
   "metadata": {},
   "outputs": [
    {
     "name": "stdout",
     "output_type": "stream",
     "text": [
      "Enter lenght of room: 12\n",
      "Enter Breadth  of room: 6\n",
      "72.0 meters squares\n"
     ]
    }
   ],
   "source": [
    "l = input(\"Enter lenght of room: \")\n",
    "b = input(\"Enter Breadth  of room: \")\n",
    "l,b = float(l), float(b)\n",
    "area = l*b\n",
    "print(area, \"meters squares\")"
   ]
  },
  {
   "cell_type": "code",
   "execution_count": 12,
   "id": "0303213c",
   "metadata": {},
   "outputs": [
    {
     "name": "stdout",
     "output_type": "stream",
     "text": [
      "Enter lenght of room: 12\n",
      "Enter Breadth  of room: 6\n",
      "72.0 meters squares\n"
     ]
    }
   ],
   "source": [
    "l = input(\"Enter lenght of room: \")\n",
    "b = input(\"Enter Breadth  of room: \")\n",
    "l = float(l)\n",
    "b = float(b)\n",
    "area = l*b\n",
    "print(area, \"meters squares\")"
   ]
  },
  {
   "cell_type": "code",
   "execution_count": 17,
   "id": "20e3aab9",
   "metadata": {},
   "outputs": [
    {
     "ename": "SyntaxError",
     "evalue": "invalid syntax (720254627.py, line 2)",
     "output_type": "error",
     "traceback": [
      "\u001b[1;36m  Input \u001b[1;32mIn [17]\u001b[1;36m\u001b[0m\n\u001b[1;33m    b = input(float(\"Enter breadth of room: \"))\u001b[0m\n\u001b[1;37m    ^\u001b[0m\n\u001b[1;31mSyntaxError\u001b[0m\u001b[1;31m:\u001b[0m invalid syntax\n"
     ]
    }
   ],
   "source": [
    "l = input(float((\"Enter lenght of room: \"))\n",
    "b = input(float(\"Enter breadth of room: \"))\n",
    "area = l*b\n",
    "print(area, \"meters squares\")"
   ]
  },
  {
   "cell_type": "code",
   "execution_count": 27,
   "id": "f730a047",
   "metadata": {},
   "outputs": [
    {
     "name": "stdout",
     "output_type": "stream",
     "text": [
      "Enter breadth of room: 34\n"
     ]
    }
   ],
   "source": [
    "b = float(input(\"Enter breadth of room: \"))"
   ]
  },
  {
   "cell_type": "code",
   "execution_count": 29,
   "id": "482de7eb",
   "metadata": {},
   "outputs": [
    {
     "name": "stdout",
     "output_type": "stream",
     "text": [
      "Enter the lenght of room : 8\n",
      "Enter breadth of room: 9\n",
      "72.0 meters squared\n"
     ]
    }
   ],
   "source": [
    "l = float(input(\"Enter the lenght of room : \"))\n",
    "b = float(input(\"Enter breadth of room: \"))\n",
    "a = l * b\n",
    "print(a, \"meters squared\")"
   ]
  },
  {
   "cell_type": "markdown",
   "id": "beac03e2",
   "metadata": {},
   "source": [
    "### Assignment\n"
   ]
  },
  {
   "cell_type": "code",
   "execution_count": 4,
   "id": "7e3d0abf",
   "metadata": {},
   "outputs": [
    {
     "name": "stdout",
     "output_type": "stream",
     "text": [
      "enter the length value:  3\n",
      "enter the width value:  3\n",
      "the area of room is  9.0 meters squared\n"
     ]
    }
   ],
   "source": [
    "length = float(input(\"enter the length value:  \"))\n",
    "width = float(input(\"enter the width value:  \"))\n",
    "area = length * width\n",
    "print(\"the area of room is \", area, \"meters squared\")\n"
   ]
  },
  {
   "cell_type": "code",
   "execution_count": 10,
   "id": "26137c95",
   "metadata": {},
   "outputs": [
    {
     "name": "stdout",
     "output_type": "stream",
     "text": [
      "enter the length of the field in cm:  5\n",
      "enter the width of the field in cm:  5\n",
      "there are 0.02691065662002153 squared feet in 61774153.6940944 acres\n"
     ]
    }
   ],
   "source": [
    "length = float(input(\"enter the length of the field in cm:  \"))\n",
    "width = float(input(\"enter the width of the field in cm:  \"))\n",
    "ar = length * width  # converting cm squared to squared feet\n",
    "sf = ar / 929  # converting squared feet to acre\n",
    "\n",
    "area = (ar / 4.047 * 10 ** 7)\n",
    "print(\"there are {0} squared feet in {1} acres\".format(sf, area))"
   ]
  },
  {
   "cell_type": "code",
   "execution_count": 15,
   "id": "7da13fc2",
   "metadata": {},
   "outputs": [
    {
     "name": "stdout",
     "output_type": "stream",
     "text": [
      "enter quantity of containers in litres: 0.9\n",
      "the refund will be 0.135$\n"
     ]
    }
   ],
   "source": [
    "a = float(input(\"enter quantity of containers in litres: \"))\n",
    "if a <= 1:\n",
    "    b = a * 0.15\n",
    "    print(\"the refund will be {0}$\".format(b))\n",
    "elif a > 1:\n",
    "    b = a * 0.25\n",
    "    print(\"the refund will be {0}$\".format(b))\n",
    "else:\n",
    "    print(\"invalid input\")\n",
    "    \n",
    "    "
   ]
  },
  {
   "cell_type": "code",
   "execution_count": 18,
   "id": "dbdd0aca",
   "metadata": {},
   "outputs": [
    {
     "name": "stdout",
     "output_type": "stream",
     "text": [
      "orders from magnus chuku in a restaurant loading ...\n",
      "garri:  5000\n",
      "soup:  10000\n",
      "meat:  1500\n",
      "rice:  3500\n",
      "grand total:  20000\n",
      "tax:  3000.0\n",
      "tip:  3600.0\n"
     ]
    }
   ],
   "source": [
    "print(\"orders from magnus chuku in a restaurant loading ...\")\n",
    "garri, soup, meat, rice =  5000, 10000, 1500, 3500\n",
    "print(\"garri: \", garri)\n",
    "print(\"soup: \", soup)\n",
    "print(\"meat: \", meat)\n",
    "print(\"rice: \", rice)\n",
    "total = garri + soup + meat + rice\n",
    "tax = total * (15 / 100)\n",
    "tip = total * (18 / 100)\n",
    "print(\"grand total: \", total)\n",
    "print(\"tax: \", tax)\n",
    "print(\"tip: \", tip)\n"
   ]
  },
  {
   "cell_type": "code",
   "execution_count": 19,
   "id": "18f2515f",
   "metadata": {},
   "outputs": [
    {
     "name": "stdout",
     "output_type": "stream",
     "text": [
      "enter a positive number: 5\n",
      "15.0\n"
     ]
    }
   ],
   "source": [
    "n = float(input(\"enter a positive number: \"))\n",
    "sum = ((n) * (n + 1)) / 2\n",
    "print(sum)\n"
   ]
  },
  {
   "cell_type": "code",
   "execution_count": null,
   "id": "f279b50c",
   "metadata": {},
   "outputs": [],
   "source": []
  }
 ],
 "metadata": {
  "kernelspec": {
   "display_name": "Python 3 (ipykernel)",
   "language": "python",
   "name": "python3"
  },
  "language_info": {
   "codemirror_mode": {
    "name": "ipython",
    "version": 3
   },
   "file_extension": ".py",
   "mimetype": "text/x-python",
   "name": "python",
   "nbconvert_exporter": "python",
   "pygments_lexer": "ipython3",
   "version": "3.9.12"
  }
 },
 "nbformat": 4,
 "nbformat_minor": 5
}
